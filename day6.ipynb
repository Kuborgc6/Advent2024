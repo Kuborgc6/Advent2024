{
  "nbformat": 4,
  "nbformat_minor": 0,
  "metadata": {
    "colab": {
      "provenance": [],
      "authorship_tag": "ABX9TyN2MHpT9jvHG5uKXYNJmct5",
      "include_colab_link": true
    },
    "kernelspec": {
      "name": "python3",
      "display_name": "Python 3"
    },
    "language_info": {
      "name": "python"
    }
  },
  "cells": [
    {
      "cell_type": "markdown",
      "metadata": {
        "id": "view-in-github",
        "colab_type": "text"
      },
      "source": [
        "<a href=\"https://colab.research.google.com/github/Kuborgc6/Advent2024/blob/main/day6.ipynb\" target=\"_parent\"><img src=\"https://colab.research.google.com/assets/colab-badge.svg\" alt=\"Open In Colab\"/></a>"
      ]
    },
    {
      "cell_type": "markdown",
      "source": [
        "PART ONE"
      ],
      "metadata": {
        "id": "t6pb1Kyp6e6E"
      }
    },
    {
      "cell_type": "code",
      "execution_count": null,
      "metadata": {
        "id": "qKCnQ3w4mIOt"
      },
      "outputs": [],
      "source": [
        "input = '/content/sample_data/input.txt'\n",
        "# input = '/content/sample_data/input_test.txt'"
      ]
    },
    {
      "cell_type": "code",
      "source": [
        "file = open(input, 'r')\n",
        "lines_clean = [list(line.split()[0]) for line in file]\n",
        "lines = [line.copy() for line in lines_clean]"
      ],
      "metadata": {
        "id": "wXy-odi6mJA8"
      },
      "execution_count": null,
      "outputs": []
    },
    {
      "cell_type": "code",
      "source": [
        "# lines"
      ],
      "metadata": {
        "id": "8safKOIQmZRw"
      },
      "execution_count": null,
      "outputs": []
    },
    {
      "cell_type": "code",
      "source": [
        "for i in range(len(lines)):\n",
        "  for j in range(len(lines[i])):\n",
        "    if lines[i][j] == '^':\n",
        "      start = [i,j]\n",
        "      break"
      ],
      "metadata": {
        "id": "CRVPSg4Nm04d"
      },
      "execution_count": null,
      "outputs": []
    },
    {
      "cell_type": "code",
      "source": [
        "start"
      ],
      "metadata": {
        "colab": {
          "base_uri": "https://localhost:8080/"
        },
        "id": "GCwPPe8inGGc",
        "outputId": "2c7254f8-a7a6-4cc5-f34e-14e17e6622f7"
      },
      "execution_count": null,
      "outputs": [
        {
          "output_type": "execute_result",
          "data": {
            "text/plain": [
              "[45, 42]"
            ]
          },
          "metadata": {},
          "execution_count": 96
        }
      ]
    },
    {
      "cell_type": "code",
      "source": [
        "vector_list = [[-1,0], [0,1], [1,0], [0,-1]]\n",
        "start_vector = 0"
      ],
      "metadata": {
        "id": "Xm-wRJ9OnG-a"
      },
      "execution_count": null,
      "outputs": []
    },
    {
      "cell_type": "code",
      "source": [
        "flag = True\n",
        "current_place = [start[0], start[1]]\n",
        "\n",
        "while flag:\n",
        "  lines[current_place[0]][current_place[1]] = 'X'\n",
        "  next_place = [current_place[0] + vector_list[start_vector % 4][0],current_place[1] + vector_list[start_vector % 4][1]]\n",
        "  if next_place[0] < 0 or next_place[0] >= len(lines) or next_place[1] < 0 or next_place[1] >= len(lines[0]):\n",
        "    flag = False\n",
        "  elif lines[next_place[0]][next_place[1]] == '#':\n",
        "    start_vector += 1\n",
        "  else:\n",
        "    current_place = next_place"
      ],
      "metadata": {
        "id": "1CY1Jh2knjT_"
      },
      "execution_count": null,
      "outputs": []
    },
    {
      "cell_type": "code",
      "source": [
        "result = 0\n",
        "\n",
        "for i in range(len(lines)):\n",
        "  for j in range(len(lines[i])):\n",
        "    if lines[i][j] == 'X':\n",
        "      result += 1"
      ],
      "metadata": {
        "id": "DShUihnIs3qE"
      },
      "execution_count": null,
      "outputs": []
    },
    {
      "cell_type": "code",
      "source": [
        "result"
      ],
      "metadata": {
        "colab": {
          "base_uri": "https://localhost:8080/"
        },
        "id": "NR0pvCIJs_X6",
        "outputId": "949b4c68-5721-41c0-8280-bbb362b6c1f1"
      },
      "execution_count": null,
      "outputs": [
        {
          "output_type": "execute_result",
          "data": {
            "text/plain": [
              "4454"
            ]
          },
          "metadata": {},
          "execution_count": 100
        }
      ]
    },
    {
      "cell_type": "markdown",
      "source": [
        "PART TWO"
      ],
      "metadata": {
        "id": "WoMiYEGX6bs2"
      }
    },
    {
      "cell_type": "code",
      "source": [
        "for i in range(len(lines)):\n",
        "  for j in range(len(lines[i])):\n",
        "    if lines[i][j] == '^':\n",
        "      start = [i,j]\n",
        "      break"
      ],
      "metadata": {
        "id": "lUFVLYls9oEE"
      },
      "execution_count": null,
      "outputs": []
    },
    {
      "cell_type": "code",
      "source": [
        "potential_change = []\n",
        "for i in range(len(lines)):\n",
        "  for j in range(len(lines[i])):\n",
        "    if lines[i][j] == 'X':\n",
        "      potential_change.append([i,j])"
      ],
      "metadata": {
        "id": "AvX-PMyU6eCE"
      },
      "execution_count": null,
      "outputs": []
    },
    {
      "cell_type": "code",
      "source": [
        "len(potential_change)"
      ],
      "metadata": {
        "colab": {
          "base_uri": "https://localhost:8080/"
        },
        "id": "3vkWQLXZ72cs",
        "outputId": "4b6ca2ce-d17a-4a64-d404-b18e62cafb79"
      },
      "execution_count": null,
      "outputs": [
        {
          "output_type": "execute_result",
          "data": {
            "text/plain": [
              "4454"
            ]
          },
          "metadata": {},
          "execution_count": 103
        }
      ]
    },
    {
      "cell_type": "code",
      "source": [
        "result = []\n",
        "for position in potential_change:\n",
        "  start_vector = 0\n",
        "\n",
        "  tmp_lines = [line.copy() for line in lines_clean]\n",
        "  tmp_lines[position[0]][position[1]] = '#'\n",
        "  flag = True\n",
        "  current_place = [start[0], start[1]]\n",
        "  i = 0\n",
        "  end_flag = pow(10,5)#*len(tmp_lines)*len(tmp_lines[0])\n",
        "  # print(position)\n",
        "  # print(tmp_lines)\n",
        "  while flag and i < end_flag:\n",
        "    tmp_lines[current_place[0]][current_place[1]] = 'X'\n",
        "    next_place = [current_place[0] + vector_list[start_vector % 4][0],current_place[1] + vector_list[start_vector % 4][1]]\n",
        "    if next_place[0] < 0 or next_place[0] >= len(tmp_lines) or next_place[1] < 0 or next_place[1] >= len(tmp_lines[0]):\n",
        "      flag = False\n",
        "    elif tmp_lines[next_place[0]][next_place[1]] == '#':\n",
        "      start_vector += 1\n",
        "    else:\n",
        "      current_place = next_place\n",
        "    i += 1\n",
        "\n",
        "  if i == end_flag:\n",
        "    result.append(position)"
      ],
      "metadata": {
        "id": "RfxMw9eg62Oq",
        "collapsed": true
      },
      "execution_count": null,
      "outputs": []
    },
    {
      "cell_type": "code",
      "source": [
        "len(result)"
      ],
      "metadata": {
        "id": "F2Rjnp7C7wp2",
        "colab": {
          "base_uri": "https://localhost:8080/"
        },
        "outputId": "a9f3ea6d-2f75-43a3-ec12-d5d083aa0639"
      },
      "execution_count": null,
      "outputs": [
        {
          "output_type": "execute_result",
          "data": {
            "text/plain": [
              "1503"
            ]
          },
          "metadata": {},
          "execution_count": 106
        }
      ]
    },
    {
      "cell_type": "code",
      "source": [
        "# result"
      ],
      "metadata": {
        "id": "2tTbS80D9TLo"
      },
      "execution_count": null,
      "outputs": []
    },
    {
      "cell_type": "code",
      "source": [
        "# lines"
      ],
      "metadata": {
        "id": "K5bK9Eg_9VXg"
      },
      "execution_count": null,
      "outputs": []
    },
    {
      "cell_type": "code",
      "source": [
        "# tmp_lines"
      ],
      "metadata": {
        "id": "Kta4GVpndNuo"
      },
      "execution_count": null,
      "outputs": []
    }
  ]
}