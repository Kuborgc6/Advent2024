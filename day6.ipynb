{
  "nbformat": 4,
  "nbformat_minor": 0,
  "metadata": {
    "colab": {
      "provenance": [],
      "authorship_tag": "ABX9TyNiNwVR1hUfYsLbUB5huH2t"
    },
    "kernelspec": {
      "name": "python3",
      "display_name": "Python 3"
    },
    "language_info": {
      "name": "python"
    }
  },
  "cells": [
    {
      "cell_type": "code",
      "execution_count": null,
      "metadata": {
        "id": "qKCnQ3w4mIOt"
      },
      "outputs": [],
      "source": [
        "input = '/content/sample_data/input.txt'\n",
        "# input = '/content/sample_data/input_test.txt'"
      ]
    },
    {
      "cell_type": "code",
      "source": [
        "file = open(input, 'r')\n",
        "lines = [list(line.split()[0]) for line in file]"
      ],
      "metadata": {
        "id": "wXy-odi6mJA8"
      },
      "execution_count": null,
      "outputs": []
    },
    {
      "cell_type": "code",
      "source": [
        "# lines"
      ],
      "metadata": {
        "id": "8safKOIQmZRw"
      },
      "execution_count": null,
      "outputs": []
    },
    {
      "cell_type": "code",
      "source": [
        "for i in range(len(lines)):\n",
        "  for j in range(len(lines[i])):\n",
        "    if lines[i][j] == '^':\n",
        "      start = [i,j]\n",
        "      break"
      ],
      "metadata": {
        "id": "CRVPSg4Nm04d"
      },
      "execution_count": null,
      "outputs": []
    },
    {
      "cell_type": "code",
      "source": [
        "start"
      ],
      "metadata": {
        "colab": {
          "base_uri": "https://localhost:8080/"
        },
        "id": "GCwPPe8inGGc",
        "outputId": "bc035a14-7aac-46ad-af1a-5e7ff0d4e347"
      },
      "execution_count": null,
      "outputs": [
        {
          "output_type": "execute_result",
          "data": {
            "text/plain": [
              "[45, 42]"
            ]
          },
          "metadata": {},
          "execution_count": 34
        }
      ]
    },
    {
      "cell_type": "code",
      "source": [
        "vector_list = [[-1,0], [0,1], [1,0], [0,-1]]\n",
        "start_vector = 0"
      ],
      "metadata": {
        "id": "Xm-wRJ9OnG-a"
      },
      "execution_count": null,
      "outputs": []
    },
    {
      "cell_type": "code",
      "source": [
        "flag = True\n",
        "current_place = [start[0], start[1]]\n",
        "\n",
        "while flag:\n",
        "  lines[current_place[0]][current_place[1]] = 'X'\n",
        "  next_place = [current_place[0] + vector_list[start_vector % 4][0],current_place[1] + vector_list[start_vector % 4][1]]\n",
        "  if next_place[0] < 0 or next_place[0] >= len(lines) or next_place[1] < 0 or next_place[1] >= len(lines[0]):\n",
        "    flag = False\n",
        "  elif lines[next_place[0]][next_place[1]] == '#':\n",
        "    start_vector += 1\n",
        "  else:\n",
        "    current_place = next_place"
      ],
      "metadata": {
        "id": "1CY1Jh2knjT_"
      },
      "execution_count": null,
      "outputs": []
    },
    {
      "cell_type": "code",
      "source": [
        "result = 0\n",
        "\n",
        "for i in range(len(lines)):\n",
        "  for j in range(len(lines[i])):\n",
        "    if lines[i][j] == 'X':\n",
        "      result += 1"
      ],
      "metadata": {
        "id": "DShUihnIs3qE"
      },
      "execution_count": null,
      "outputs": []
    },
    {
      "cell_type": "code",
      "source": [
        "result"
      ],
      "metadata": {
        "colab": {
          "base_uri": "https://localhost:8080/"
        },
        "id": "NR0pvCIJs_X6",
        "outputId": "645a9b3b-8590-4610-e397-c419dd3790a6"
      },
      "execution_count": null,
      "outputs": [
        {
          "output_type": "execute_result",
          "data": {
            "text/plain": [
              "4454"
            ]
          },
          "metadata": {},
          "execution_count": 38
        }
      ]
    }
  ]
}