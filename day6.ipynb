{
  "nbformat": 4,
  "nbformat_minor": 0,
  "metadata": {
    "colab": {
      "provenance": [],
      "authorship_tag": "ABX9TyOxfGjP1rWYmEzoK/jDWyd/"
    },
    "kernelspec": {
      "name": "python3",
      "display_name": "Python 3"
    },
    "language_info": {
      "name": "python"
    }
  },
  "cells": [
    {
      "cell_type": "code",
      "execution_count": 1,
      "metadata": {
        "id": "qKCnQ3w4mIOt"
      },
      "outputs": [],
      "source": [
        "# input = '/content/sample_data/input.txt'\n",
        "input = '/content/sample_data/input_test.txt'"
      ]
    },
    {
      "cell_type": "code",
      "source": [
        "file = open(input, 'r')\n",
        "lines = [list(line.split()[0]) for line in file]"
      ],
      "metadata": {
        "id": "wXy-odi6mJA8"
      },
      "execution_count": 9,
      "outputs": []
    },
    {
      "cell_type": "code",
      "source": [
        "lines"
      ],
      "metadata": {
        "colab": {
          "base_uri": "https://localhost:8080/"
        },
        "id": "8safKOIQmZRw",
        "outputId": "878f96ee-5dd3-4c47-acce-fcc77161bbe0"
      },
      "execution_count": 12,
      "outputs": [
        {
          "output_type": "execute_result",
          "data": {
            "text/plain": [
              "[['.', '.', '.', '.', '#', '.', '.', '.', '.', '.'],\n",
              " ['.', '.', '.', '.', '.', '.', '.', '.', '.', '#'],\n",
              " ['.', '.', '.', '.', '.', '.', '.', '.', '.', '.'],\n",
              " ['.', '.', '#', '.', '.', '.', '.', '.', '.', '.'],\n",
              " ['.', '.', '.', '.', '.', '.', '.', '#', '.', '.'],\n",
              " ['.', '.', '.', '.', '.', '.', '.', '.', '.', '.'],\n",
              " ['.', '#', '.', '.', '^', '.', '.', '.', '.', '.'],\n",
              " ['.', '.', '.', '.', '.', '.', '.', '.', '#', '.'],\n",
              " ['#', '.', '.', '.', '.', '.', '.', '.', '.', '.'],\n",
              " ['.', '.', '.', '.', '.', '.', '#', '.', '.', '.']]"
            ]
          },
          "metadata": {},
          "execution_count": 12
        }
      ]
    },
    {
      "cell_type": "code",
      "source": [
        "for i in range(len(lines)):\n",
        "  for j in range(len(lines[i])):\n",
        "    if lines[i][j] == '^':\n",
        "      start = [i,j]\n",
        "      break"
      ],
      "metadata": {
        "id": "CRVPSg4Nm04d"
      },
      "execution_count": 13,
      "outputs": []
    },
    {
      "cell_type": "code",
      "source": [
        "start"
      ],
      "metadata": {
        "colab": {
          "base_uri": "https://localhost:8080/"
        },
        "id": "GCwPPe8inGGc",
        "outputId": "bc9d2876-2d2e-4f60-ff67-3c7beaa48876"
      },
      "execution_count": 14,
      "outputs": [
        {
          "output_type": "execute_result",
          "data": {
            "text/plain": [
              "[6, 4]"
            ]
          },
          "metadata": {},
          "execution_count": 14
        }
      ]
    },
    {
      "cell_type": "code",
      "source": [
        "vector_list = [[-1,0], [0,1], [1,0], [0,-1]]\n",
        "start_vector = 0"
      ],
      "metadata": {
        "id": "Xm-wRJ9OnG-a"
      },
      "execution_count": 16,
      "outputs": []
    },
    {
      "cell_type": "code",
      "source": [],
      "metadata": {
        "id": "1CY1Jh2knjT_"
      },
      "execution_count": null,
      "outputs": []
    }
  ]
}