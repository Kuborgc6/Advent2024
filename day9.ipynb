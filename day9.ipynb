{
  "nbformat": 4,
  "nbformat_minor": 0,
  "metadata": {
    "colab": {
      "provenance": [],
      "authorship_tag": "ABX9TyOvu0cN9Z7K14uJ8LCAt+ts"
    },
    "kernelspec": {
      "name": "python3",
      "display_name": "Python 3"
    },
    "language_info": {
      "name": "python"
    }
  },
  "cells": [
    {
      "cell_type": "code",
      "execution_count": 2,
      "metadata": {
        "id": "E6vma1C_hGR5"
      },
      "outputs": [],
      "source": [
        "# input = '/content/sample_data/input.txt'\n",
        "input = '/content/sample_data/input_test.txt'"
      ]
    },
    {
      "cell_type": "code",
      "source": [
        "file = open(input, 'r')\n",
        "lines_clean = [list(line.split()) for line in file]\n",
        "lines = [line.copy() for line in lines_clean]"
      ],
      "metadata": {
        "id": "du3eYEr1hVXO"
      },
      "execution_count": 3,
      "outputs": []
    }
  ]
}