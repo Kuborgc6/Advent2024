{
  "nbformat": 4,
  "nbformat_minor": 0,
  "metadata": {
    "colab": {
      "provenance": [],
      "authorship_tag": "ABX9TyOKovrhyjtGppFbmxvTcyH4",
      "include_colab_link": true
    },
    "kernelspec": {
      "name": "python3",
      "display_name": "Python 3"
    },
    "language_info": {
      "name": "python"
    }
  },
  "cells": [
    {
      "cell_type": "markdown",
      "metadata": {
        "id": "view-in-github",
        "colab_type": "text"
      },
      "source": [
        "<a href=\"https://colab.research.google.com/github/Kuborgc6/Advent2024/blob/main/day2.ipynb\" target=\"_parent\"><img src=\"https://colab.research.google.com/assets/colab-badge.svg\" alt=\"Open In Colab\"/></a>"
      ]
    },
    {
      "cell_type": "code",
      "execution_count": 3,
      "metadata": {
        "id": "sMs-L-3QbPFv"
      },
      "outputs": [],
      "source": [
        "input = '/content/sample_data/input.txt'"
      ]
    },
    {
      "cell_type": "code",
      "source": [
        "file = open(input, 'r')\n",
        "lines = [line.split() for line in file]\n",
        "lines = [[int(i) for i in line] for line in lines]"
      ],
      "metadata": {
        "id": "tldY5J8tNRSQ"
      },
      "execution_count": 4,
      "outputs": []
    },
    {
      "cell_type": "code",
      "source": [
        "result = 0"
      ],
      "metadata": {
        "id": "GFR7th22eXNL"
      },
      "execution_count": 5,
      "outputs": []
    },
    {
      "cell_type": "code",
      "source": [
        "lines[0]"
      ],
      "metadata": {
        "colab": {
          "base_uri": "https://localhost:8080/"
        },
        "id": "5zVxXFuyy3LN",
        "outputId": "c1953b19-53ab-42d1-b817-3cfef70c7cd5"
      },
      "execution_count": 6,
      "outputs": [
        {
          "output_type": "execute_result",
          "data": {
            "text/plain": [
              "[58, 59, 62, 63, 64, 63]"
            ]
          },
          "metadata": {},
          "execution_count": 6
        }
      ]
    },
    {
      "cell_type": "code",
      "source": [
        "result_1 = [all(line[i] < line[i+1] for i in range(len(line)-1)) for line in lines]"
      ],
      "metadata": {
        "collapsed": true,
        "id": "YwmKlSoGzSEw"
      },
      "execution_count": 7,
      "outputs": []
    },
    {
      "cell_type": "code",
      "source": [
        "result_2 = [all(line[i] > line[i+1] for i in range(len(line)-1)) for line in lines]"
      ],
      "metadata": {
        "collapsed": true,
        "id": "t9NHQZiQ82QC"
      },
      "execution_count": 9,
      "outputs": []
    },
    {
      "cell_type": "code",
      "source": [
        "result_3 = [all( 1 <= abs(line[i] - line[i+1]) <= 3 for i in range(len(line)-1)) for line in lines]"
      ],
      "metadata": {
        "collapsed": true,
        "id": "cJ_zamYF854a"
      },
      "execution_count": 10,
      "outputs": []
    },
    {
      "cell_type": "code",
      "source": [
        "result_all = [all([any([result_1[i], result_2[i]]), result_3[i]]) for i in range(len(lines))]"
      ],
      "metadata": {
        "collapsed": true,
        "id": "tZt3bwUP_0Il"
      },
      "execution_count": 12,
      "outputs": []
    },
    {
      "cell_type": "code",
      "source": [
        "result = sum(result_all)\n",
        "result"
      ],
      "metadata": {
        "colab": {
          "base_uri": "https://localhost:8080/"
        },
        "id": "CeDlmShOaylB",
        "outputId": "eb2f91e1-3368-4573-8001-a257e068e972"
      },
      "execution_count": 13,
      "outputs": [
        {
          "output_type": "execute_result",
          "data": {
            "text/plain": [
              "402"
            ]
          },
          "metadata": {},
          "execution_count": 13
        }
      ]
    },
    {
      "cell_type": "code",
      "source": [
        "indixes = [i for i, x in enumerate(result_all) if x == False]"
      ],
      "metadata": {
        "collapsed": true,
        "id": "Dfo6xDM3Ziqg"
      },
      "execution_count": 16,
      "outputs": []
    },
    {
      "cell_type": "code",
      "source": [
        "for id in indixes:\n",
        "  for i in range(len(lines[id])):\n",
        "    tmp = lines[id][0:i] + lines[id][i+1:]\n",
        "    result_1_tmp = all(tmp[i] < tmp[i+1] for i in range(len(tmp)-1))\n",
        "    result_2_tmp = all(tmp[i] > tmp[i+1] for i in range(len(tmp)-1))\n",
        "    result_3_tmp = all( 1 <= abs(tmp[i] - tmp[i+1]) <= 3 for i in range(len(tmp)-1))\n",
        "    result_all_tmp = all([any([result_1_tmp, result_2_tmp]), result_3_tmp])\n",
        "    if result_all_tmp:\n",
        "      result += 1\n",
        "      break\n",
        "result"
      ],
      "metadata": {
        "colab": {
          "base_uri": "https://localhost:8080/"
        },
        "id": "xBljIorEZtkn",
        "outputId": "0e85d51d-4ad4-4689-fcce-ec6519cdd80e"
      },
      "execution_count": 15,
      "outputs": [
        {
          "output_type": "execute_result",
          "data": {
            "text/plain": [
              "455"
            ]
          },
          "metadata": {},
          "execution_count": 15
        }
      ]
    }
  ]
}