{
  "nbformat": 4,
  "nbformat_minor": 0,
  "metadata": {
    "colab": {
      "provenance": [],
      "authorship_tag": "ABX9TyMtS13TmYShN0wVeKbudzg+"
    },
    "kernelspec": {
      "name": "python3",
      "display_name": "Python 3"
    },
    "language_info": {
      "name": "python"
    }
  },
  "cells": [
    {
      "cell_type": "code",
      "execution_count": 76,
      "metadata": {
        "id": "yX2chNoS5Qz0"
      },
      "outputs": [],
      "source": [
        "input = '/content/sample_data/input.txt'"
      ]
    },
    {
      "cell_type": "code",
      "source": [
        "file = open(input, 'r')\n",
        "lines = [line.split() for line in file]"
      ],
      "metadata": {
        "id": "R93FSUGQ5uOD"
      },
      "execution_count": 77,
      "outputs": []
    },
    {
      "cell_type": "code",
      "source": [
        "# lines"
      ],
      "metadata": {
        "id": "HvBnxJtp5xnz"
      },
      "execution_count": 78,
      "outputs": []
    },
    {
      "cell_type": "code",
      "source": [
        "manual_dict = dict()\n",
        "for line in lines:\n",
        "  if line != []:\n",
        "    # print(line)\n",
        "    values = line[0].split('|')\n",
        "    # print(values)\n",
        "    if values[0] not in manual_dict:\n",
        "      manual_dict[values[0]] = [int(values[1])]\n",
        "    elif values[0] in manual_dict:\n",
        "      manual_dict[values[0]] += [int(values[1])]\n",
        "    # print(manual_dict)\n",
        "  else:\n",
        "    break"
      ],
      "metadata": {
        "collapsed": true,
        "id": "MG8llJpjBFIm"
      },
      "execution_count": 79,
      "outputs": []
    },
    {
      "cell_type": "code",
      "source": [
        "result_list = list()\n",
        "for line in lines:\n",
        "  if line != [] and '|' not in line[0]:\n",
        "\n",
        "    values = line[0].split(',')\n",
        "    # values = [int(x) for x in values_str]\n",
        "    flag = 1\n",
        "    for i in range(0,len(values)-1):\n",
        "      if values[i] not in manual_dict:\n",
        "        flag = 0\n",
        "        break\n",
        "      if  int(values[i+1]) in manual_dict[values[i]]:\n",
        "        flag = 1\n",
        "      else:\n",
        "        flag = 0\n",
        "        break\n",
        "    if flag == 1:\n",
        "      result_list += [values]\n",
        "# print(result_list)"
      ],
      "metadata": {
        "id": "ohVwhkDaHUSS"
      },
      "execution_count": 80,
      "outputs": []
    },
    {
      "cell_type": "code",
      "source": [
        "result = 0\n",
        "for line in result_list:\n",
        "  result += int(line[len(line)//2])\n",
        "print(result)"
      ],
      "metadata": {
        "colab": {
          "base_uri": "https://localhost:8080/"
        },
        "id": "pWNwsYwtMRh4",
        "outputId": "19dbccd7-cd35-4d78-eb5a-31bd4285d876"
      },
      "execution_count": 81,
      "outputs": [
        {
          "output_type": "stream",
          "name": "stdout",
          "text": [
            "6260\n"
          ]
        }
      ]
    }
  ]
}